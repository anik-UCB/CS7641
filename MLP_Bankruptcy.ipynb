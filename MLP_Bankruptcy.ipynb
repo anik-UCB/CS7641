{
 "cells": [
  {
   "cell_type": "code",
   "execution_count": 1,
   "metadata": {},
   "outputs": [],
   "source": [
    "import numpy as np\n",
    "import pandas as pd\n",
    "import keras\n",
    "from keras.wrappers.scikit_learn import KerasClassifier\n",
    "from keras import backend as K\n",
    "from tensorflow.keras.utils import to_categorical\n",
    "import tensorflow as tf\n",
    "\n",
    "from sklearn.model_selection import cross_val_score\n",
    "from sklearn.preprocessing import LabelEncoder\n",
    "from sklearn.model_selection import StratifiedKFold\n",
    "from sklearn import preprocessing\n",
    "from sklearn.preprocessing import StandardScaler\n",
    "import warnings\n",
    "warnings.simplefilter(action='ignore', category=FutureWarning)\n",
    "\n",
    "from imblearn.over_sampling import SMOTE\n",
    "from sklearn.neural_network import MLPClassifier\n",
    "\n",
    "from sklearn.model_selection import GridSearchCV\n",
    "from sklearn.metrics import accuracy_score,recall_score,precision_score,f1_score, classification_report\n",
    "from sklearn.metrics import confusion_matrix\n",
    "from sklearn.metrics import roc_auc_score, roc_curve\n",
    "\n",
    "from matplotlib import pyplot as plt\n",
    "from numpy.random import seed\n",
    "\n",
    "from sklearn.model_selection import learning_curve\n",
    "from sklearn.model_selection import ShuffleSplit\n",
    "from sklearn.model_selection import validation_curve\n",
    "from sklearn.exceptions import ConvergenceWarning\n",
    "warnings.filterwarnings(\"ignore\", category=ConvergenceWarning)"
   ]
  },
  {
   "cell_type": "code",
   "execution_count": 2,
   "metadata": {},
   "outputs": [],
   "source": [
    "# fix random seed for reproducibility\n",
    "seed = 7\n",
    "np.random.seed(seed)"
   ]
  },
  {
   "cell_type": "code",
   "execution_count": 3,
   "metadata": {},
   "outputs": [],
   "source": [
    "df = pd.read_excel('Bankruptcy_Data.xlsx', sheet_name = 'Data_final')"
   ]
  },
  {
   "cell_type": "code",
   "execution_count": 4,
   "metadata": {},
   "outputs": [
    {
     "data": {
      "text/html": [
       "<div>\n",
       "<style scoped>\n",
       "    .dataframe tbody tr th:only-of-type {\n",
       "        vertical-align: middle;\n",
       "    }\n",
       "\n",
       "    .dataframe tbody tr th {\n",
       "        vertical-align: top;\n",
       "    }\n",
       "\n",
       "    .dataframe thead th {\n",
       "        text-align: right;\n",
       "    }\n",
       "</style>\n",
       "<table border=\"1\" class=\"dataframe\">\n",
       "  <thead>\n",
       "    <tr style=\"text-align: right;\">\n",
       "      <th></th>\n",
       "      <th>Global Company Key</th>\n",
       "      <th>Data Year - Fiscal</th>\n",
       "      <th>Tobin's Q</th>\n",
       "      <th>EPS</th>\n",
       "      <th>Liquidity</th>\n",
       "      <th>Profitability</th>\n",
       "      <th>Productivity</th>\n",
       "      <th>Leverage Ratio</th>\n",
       "      <th>Asset Turnover</th>\n",
       "      <th>Operational Margin</th>\n",
       "      <th>...</th>\n",
       "      <th>Employee Growth</th>\n",
       "      <th>P/B</th>\n",
       "      <th>Sales/Stockholder Equity</th>\n",
       "      <th>TD/TA</th>\n",
       "      <th>Net Income Growth</th>\n",
       "      <th>ROA</th>\n",
       "      <th>Investment Turnover</th>\n",
       "      <th>Net Profit Margin</th>\n",
       "      <th>Sales/Working Capital</th>\n",
       "      <th>BK</th>\n",
       "    </tr>\n",
       "  </thead>\n",
       "  <tbody>\n",
       "    <tr>\n",
       "      <th>0</th>\n",
       "      <td>1004</td>\n",
       "      <td>1979</td>\n",
       "      <td>0.98</td>\n",
       "      <td>1.58</td>\n",
       "      <td>0.36</td>\n",
       "      <td>0.18</td>\n",
       "      <td>0.13</td>\n",
       "      <td>1.33</td>\n",
       "      <td>1.77</td>\n",
       "      <td>0.07</td>\n",
       "      <td>...</td>\n",
       "      <td>NaN</td>\n",
       "      <td>0.940704</td>\n",
       "      <td>5.085936</td>\n",
       "      <td>0.651807</td>\n",
       "      <td>NaN</td>\n",
       "      <td>0.050449</td>\n",
       "      <td>2.803481</td>\n",
       "      <td>2.848787</td>\n",
       "      <td>4.958319</td>\n",
       "      <td>0</td>\n",
       "    </tr>\n",
       "    <tr>\n",
       "      <th>1</th>\n",
       "      <td>1004</td>\n",
       "      <td>1980</td>\n",
       "      <td>0.98</td>\n",
       "      <td>1.41</td>\n",
       "      <td>0.36</td>\n",
       "      <td>0.19</td>\n",
       "      <td>0.12</td>\n",
       "      <td>1.31</td>\n",
       "      <td>1.59</td>\n",
       "      <td>0.07</td>\n",
       "      <td>...</td>\n",
       "      <td>0.040179</td>\n",
       "      <td>0.938908</td>\n",
       "      <td>4.457522</td>\n",
       "      <td>0.642239</td>\n",
       "      <td>-0.030906</td>\n",
       "      <td>0.043407</td>\n",
       "      <td>2.493967</td>\n",
       "      <td>2.721879</td>\n",
       "      <td>4.400811</td>\n",
       "      <td>0</td>\n",
       "    </tr>\n",
       "    <tr>\n",
       "      <th>2</th>\n",
       "      <td>1004</td>\n",
       "      <td>1981</td>\n",
       "      <td>0.87</td>\n",
       "      <td>0.31</td>\n",
       "      <td>0.32</td>\n",
       "      <td>0.13</td>\n",
       "      <td>0.08</td>\n",
       "      <td>1.03</td>\n",
       "      <td>1.55</td>\n",
       "      <td>0.05</td>\n",
       "      <td>...</td>\n",
       "      <td>0.566524</td>\n",
       "      <td>0.650449</td>\n",
       "      <td>4.146901</td>\n",
       "      <td>0.626732</td>\n",
       "      <td>-0.660288</td>\n",
       "      <td>0.010778</td>\n",
       "      <td>2.449001</td>\n",
       "      <td>0.696323</td>\n",
       "      <td>4.768880</td>\n",
       "      <td>0</td>\n",
       "    </tr>\n",
       "    <tr>\n",
       "      <th>3</th>\n",
       "      <td>1004</td>\n",
       "      <td>1982</td>\n",
       "      <td>1.13</td>\n",
       "      <td>0.71</td>\n",
       "      <td>0.28</td>\n",
       "      <td>0.14</td>\n",
       "      <td>0.08</td>\n",
       "      <td>0.80</td>\n",
       "      <td>1.39</td>\n",
       "      <td>0.06</td>\n",
       "      <td>...</td>\n",
       "      <td>-0.095890</td>\n",
       "      <td>1.341751</td>\n",
       "      <td>3.586027</td>\n",
       "      <td>0.611593</td>\n",
       "      <td>1.281633</td>\n",
       "      <td>0.025115</td>\n",
       "      <td>2.322918</td>\n",
       "      <td>1.803156</td>\n",
       "      <td>5.016862</td>\n",
       "      <td>0</td>\n",
       "    </tr>\n",
       "    <tr>\n",
       "      <th>4</th>\n",
       "      <td>1004</td>\n",
       "      <td>1983</td>\n",
       "      <td>1.26</td>\n",
       "      <td>0.75</td>\n",
       "      <td>0.41</td>\n",
       "      <td>0.13</td>\n",
       "      <td>0.08</td>\n",
       "      <td>0.20</td>\n",
       "      <td>1.30</td>\n",
       "      <td>0.06</td>\n",
       "      <td>...</td>\n",
       "      <td>0.053030</td>\n",
       "      <td>1.444616</td>\n",
       "      <td>2.192292</td>\n",
       "      <td>0.409122</td>\n",
       "      <td>0.605367</td>\n",
       "      <td>0.032697</td>\n",
       "      <td>1.888574</td>\n",
       "      <td>2.524162</td>\n",
       "      <td>3.184386</td>\n",
       "      <td>0</td>\n",
       "    </tr>\n",
       "  </tbody>\n",
       "</table>\n",
       "<p>5 rows × 23 columns</p>\n",
       "</div>"
      ],
      "text/plain": [
       "   Global Company Key  Data Year - Fiscal  Tobin's Q   EPS  Liquidity  \\\n",
       "0                1004                1979       0.98  1.58       0.36   \n",
       "1                1004                1980       0.98  1.41       0.36   \n",
       "2                1004                1981       0.87  0.31       0.32   \n",
       "3                1004                1982       1.13  0.71       0.28   \n",
       "4                1004                1983       1.26  0.75       0.41   \n",
       "\n",
       "   Profitability  Productivity  Leverage Ratio  Asset Turnover  \\\n",
       "0           0.18          0.13            1.33            1.77   \n",
       "1           0.19          0.12            1.31            1.59   \n",
       "2           0.13          0.08            1.03            1.55   \n",
       "3           0.14          0.08            0.80            1.39   \n",
       "4           0.13          0.08            0.20            1.30   \n",
       "\n",
       "   Operational Margin  ...  Employee Growth       P/B  \\\n",
       "0                0.07  ...              NaN  0.940704   \n",
       "1                0.07  ...         0.040179  0.938908   \n",
       "2                0.05  ...         0.566524  0.650449   \n",
       "3                0.06  ...        -0.095890  1.341751   \n",
       "4                0.06  ...         0.053030  1.444616   \n",
       "\n",
       "   Sales/Stockholder Equity     TD/TA  Net Income Growth       ROA  \\\n",
       "0                  5.085936  0.651807                NaN  0.050449   \n",
       "1                  4.457522  0.642239          -0.030906  0.043407   \n",
       "2                  4.146901  0.626732          -0.660288  0.010778   \n",
       "3                  3.586027  0.611593           1.281633  0.025115   \n",
       "4                  2.192292  0.409122           0.605367  0.032697   \n",
       "\n",
       "   Investment Turnover  Net Profit Margin  Sales/Working Capital  BK  \n",
       "0             2.803481           2.848787               4.958319   0  \n",
       "1             2.493967           2.721879               4.400811   0  \n",
       "2             2.449001           0.696323               4.768880   0  \n",
       "3             2.322918           1.803156               5.016862   0  \n",
       "4             1.888574           2.524162               3.184386   0  \n",
       "\n",
       "[5 rows x 23 columns]"
      ]
     },
     "execution_count": 4,
     "metadata": {},
     "output_type": "execute_result"
    }
   ],
   "source": [
    "df.head()"
   ]
  },
  {
   "cell_type": "code",
   "execution_count": 5,
   "metadata": {},
   "outputs": [
    {
     "name": "stdout",
     "output_type": "stream",
     "text": [
      "(44804, 23)\n",
      "(36365, 23)\n"
     ]
    }
   ],
   "source": [
    "df_train = df[df['Data Year - Fiscal'] < 2008]\n",
    "df_test = df[df['Data Year - Fiscal'] >= 2008]\n",
    "#df_test = df_test[df_test['Data Year - Fiscal'] <= 2016]\n",
    "\n",
    "df_train = df_train.dropna()\n",
    "df_test = df_test.dropna()\n",
    "\n",
    "print(df_train.shape)\n",
    "print(df_test.shape)"
   ]
  },
  {
   "cell_type": "code",
   "execution_count": 6,
   "metadata": {},
   "outputs": [
    {
     "data": {
      "text/plain": [
       "0    44389\n",
       "1      415\n",
       "Name: BK, dtype: int64"
      ]
     },
     "execution_count": 6,
     "metadata": {},
     "output_type": "execute_result"
    }
   ],
   "source": [
    "df_train[\"BK\"].value_counts()"
   ]
  },
  {
   "cell_type": "code",
   "execution_count": 7,
   "metadata": {},
   "outputs": [
    {
     "data": {
      "text/plain": [
       "0    36307\n",
       "1       58\n",
       "Name: BK, dtype: int64"
      ]
     },
     "execution_count": 7,
     "metadata": {},
     "output_type": "execute_result"
    }
   ],
   "source": [
    "df_test[\"BK\"].value_counts()"
   ]
  },
  {
   "cell_type": "code",
   "execution_count": 8,
   "metadata": {},
   "outputs": [
    {
     "name": "stdout",
     "output_type": "stream",
     "text": [
      "(44804, 16)\n",
      "(44804,)\n",
      "(36365, 16)\n",
      "(36365,)\n"
     ]
    }
   ],
   "source": [
    "col = ['EPS','Liquidity','Profitability','Productivity','Leverage Ratio','Asset Turnover','Operational Margin',\n",
    "      'Assets Growth','Sales Growth','Employee Growth','ROE','P/B','Net Income Growth',\n",
    "        'Investment Turnover','Sales/Working Capital','ROA']\n",
    "\n",
    "Y_test = np.array(df_test['BK'])\n",
    "Y_train = np.array(df_train['BK'])\n",
    "#df1 = dftrain.drop(columns=['Data Year - Fiscal','TobinsQ','BK'])\n",
    "#df2 = dftest.drop(columns=['Data Year - Fiscal','TobinsQ','BK'])\n",
    "X_train = np.array(df_train[col])\n",
    "X_test = np.array(df_test[col])\n",
    "\n",
    "print(X_train.shape)\n",
    "print(Y_train.shape)\n",
    "print(X_test.shape)\n",
    "print(Y_test.shape)"
   ]
  },
  {
   "cell_type": "code",
   "execution_count": 9,
   "metadata": {},
   "outputs": [
    {
     "data": {
      "text/plain": [
       "0    44389\n",
       "1      415\n",
       "Name: BK, dtype: int64"
      ]
     },
     "execution_count": 9,
     "metadata": {},
     "output_type": "execute_result"
    }
   ],
   "source": [
    "df_train[\"BK\"].value_counts()"
   ]
  },
  {
   "cell_type": "code",
   "execution_count": 10,
   "metadata": {},
   "outputs": [
    {
     "ename": "NameError",
     "evalue": "name 'RandomOverSampler' is not defined",
     "output_type": "error",
     "traceback": [
      "\u001b[1;31m---------------------------------------------------------------------------\u001b[0m",
      "\u001b[1;31mNameError\u001b[0m                                 Traceback (most recent call last)",
      "\u001b[1;32m<ipython-input-10-24070ab4339d>\u001b[0m in \u001b[0;36m<module>\u001b[1;34m\u001b[0m\n\u001b[0;32m      1\u001b[0m \u001b[1;31m#os = RandomUnderSampler(sampling_strategy = 1, replacement = True)\u001b[0m\u001b[1;33m\u001b[0m\u001b[1;33m\u001b[0m\u001b[1;33m\u001b[0m\u001b[0m\n\u001b[1;32m----> 2\u001b[1;33m \u001b[0mos\u001b[0m \u001b[1;33m=\u001b[0m \u001b[0mRandomOverSampler\u001b[0m\u001b[1;33m(\u001b[0m\u001b[0msampling_strategy\u001b[0m \u001b[1;33m=\u001b[0m \u001b[1;34m'minority'\u001b[0m\u001b[1;33m)\u001b[0m\u001b[1;33m\u001b[0m\u001b[1;33m\u001b[0m\u001b[0m\n\u001b[0m\u001b[0;32m      3\u001b[0m \u001b[1;31m#os = SMOTE(sampling_strategy = 'minority')\u001b[0m\u001b[1;33m\u001b[0m\u001b[1;33m\u001b[0m\u001b[1;33m\u001b[0m\u001b[0m\n\u001b[0;32m      4\u001b[0m \u001b[0mdata_X\u001b[0m\u001b[1;33m,\u001b[0m\u001b[0mdata_Y\u001b[0m\u001b[1;33m=\u001b[0m\u001b[0mos\u001b[0m\u001b[1;33m.\u001b[0m\u001b[0mfit_resample\u001b[0m\u001b[1;33m(\u001b[0m\u001b[0mX_train\u001b[0m\u001b[1;33m,\u001b[0m \u001b[0mY_train\u001b[0m\u001b[1;33m)\u001b[0m\u001b[1;33m\u001b[0m\u001b[1;33m\u001b[0m\u001b[0m\n",
      "\u001b[1;31mNameError\u001b[0m: name 'RandomOverSampler' is not defined"
     ]
    }
   ],
   "source": [
    "#os = RandomUnderSampler(sampling_strategy = 1, replacement = True)\n",
    "os = RandomOverSampler(sampling_strategy = 'minority')\n",
    "#os = SMOTE(sampling_strategy = 'minority')\n",
    "data_X,data_Y=os.fit_resample(X_train, Y_train)"
   ]
  },
  {
   "cell_type": "code",
   "execution_count": null,
   "metadata": {},
   "outputs": [],
   "source": [
    "print(data_X.shape)\n",
    "print(data_Y.shape)"
   ]
  },
  {
   "cell_type": "code",
   "execution_count": null,
   "metadata": {},
   "outputs": [],
   "source": [
    "data_X = pd.DataFrame(data = data_X,columns = col )\n",
    "data_Y = pd.DataFrame(data = data_Y,columns=['Bankrupt'])"
   ]
  },
  {
   "cell_type": "code",
   "execution_count": null,
   "metadata": {},
   "outputs": [],
   "source": [
    "data_Y[\"Bankrupt\"].value_counts()"
   ]
  },
  {
   "cell_type": "code",
   "execution_count": null,
   "metadata": {},
   "outputs": [],
   "source": [
    "# Feature Scaling\n",
    "\n",
    "X_train = np.array(data_X)\n",
    "Y_train = np.array(data_Y)\n",
    "sc = preprocessing.StandardScaler().fit(X_train)\n",
    "X_train = sc.transform(X_train)\n",
    "X_test  = sc.transform(X_test)"
   ]
  },
  {
   "cell_type": "code",
   "execution_count": null,
   "metadata": {},
   "outputs": [],
   "source": [
    "print(X_train.shape)\n",
    "print(Y_train.shape)\n",
    "print(X_test.shape)\n",
    "print(Y_test.shape)"
   ]
  },
  {
   "cell_type": "code",
   "execution_count": 16,
   "metadata": {},
   "outputs": [],
   "source": [
    "#x_train = X_train.reshape(X_train.shape[0],X_train.shape[1],1)\n",
    "#x_test = X_test.reshape(X_test.shape[0],X_test.shape[1],1)"
   ]
  },
  {
   "cell_type": "code",
   "execution_count": 17,
   "metadata": {},
   "outputs": [],
   "source": [
    "#%% one-hot-encoding\n",
    "#y_train = tf.keras.utils.to_categorical(Y_train,2)\n",
    "#y_test  = tf.keras.utils.to_categorical(Y_test,2)"
   ]
  },
  {
   "cell_type": "code",
   "execution_count": 19,
   "metadata": {},
   "outputs": [],
   "source": [
    "#print(x_train.shape)\n",
    "#print(y_train.shape)\n",
    "#print(X_test.shape)\n",
    "#print(y_test.shape)"
   ]
  },
  {
   "cell_type": "markdown",
   "metadata": {},
   "source": [
    "# MLP Classifier"
   ]
  },
  {
   "cell_type": "code",
   "execution_count": 11,
   "metadata": {},
   "outputs": [
    {
     "data": {
      "text/plain": [
       "MLPClassifier(alpha=0.05, hidden_layer_sizes=(100, 100))"
      ]
     },
     "execution_count": 11,
     "metadata": {},
     "output_type": "execute_result"
    }
   ],
   "source": [
    "clf_mlp = MLPClassifier(hidden_layer_sizes=(100,100,), batch_size = 'auto', alpha=0.05)\n",
    "clf_mlp.fit(X_train, Y_train.ravel())"
   ]
  },
  {
   "cell_type": "code",
   "execution_count": 12,
   "metadata": {},
   "outputs": [],
   "source": [
    "mlp_train_predict = clf_mlp.predict(X_train)"
   ]
  },
  {
   "cell_type": "code",
   "execution_count": 13,
   "metadata": {},
   "outputs": [
    {
     "name": "stdout",
     "output_type": "stream",
     "text": [
      "f1_score on the training set: 0.986458\n"
     ]
    }
   ],
   "source": [
    "print(\"f1_score on the training set: %f\" % f1_score(Y_train, mlp_train_predict, average=\"weighted\"))"
   ]
  },
  {
   "cell_type": "code",
   "execution_count": 14,
   "metadata": {},
   "outputs": [
    {
     "name": "stdout",
     "output_type": "stream",
     "text": [
      "Cross Validation scores:  [0.98640382 0.9855521  0.98612801 0.9862288  0.98612646]\n",
      "Cross Validation scores mean:  0.9860878392103849\n"
     ]
    }
   ],
   "source": [
    "#COmputing mean of the five fold cross validation score\n",
    "sc = cross_val_score(clf_mlp, X_train, Y_train.ravel(),scoring=\"f1_weighted\", cv=5)\n",
    "print(\"Cross Validation scores: \", sc)\n",
    "print(\"Cross Validation scores mean: \", sc.mean())"
   ]
  },
  {
   "cell_type": "code",
   "execution_count": 28,
   "metadata": {},
   "outputs": [],
   "source": [
    "def plot_learning_curve(estimator,title,X,y,axes=None,ylim=None,cv=None,n_jobs=None,\n",
    "                        train_sizes=np.linspace(0.1, 1.0, 5),):\n",
    "    if axes is None:\n",
    "        _, axes = plt.subplots(1, 3, figsize=(20, 5))\n",
    "\n",
    "    axes[0].set_title(title)\n",
    "    if ylim is not None:\n",
    "        axes[0].set_ylim(*ylim)\n",
    "    axes[0].set_xlabel(\"Training examples\")\n",
    "    axes[0].set_ylabel(\"Score\")\n",
    "\n",
    "    train_sizes, train_scores, test_scores, fit_times, _ = learning_curve(estimator,X,y,cv=cv,n_jobs=n_jobs,\n",
    "        train_sizes=train_sizes,scoring=\"f1_weighted\",return_times=True,)\n",
    "    train_scores_mean = np.mean(train_scores, axis=1)\n",
    "    train_scores_std = np.std(train_scores, axis=1)\n",
    "    test_scores_mean = np.mean(test_scores, axis=1)\n",
    "    test_scores_std = np.std(test_scores, axis=1)\n",
    "    fit_times_mean = np.mean(fit_times, axis=1)\n",
    "    fit_times_std = np.std(fit_times, axis=1)\n",
    "\n",
    "    # Plot learning curve\n",
    "    axes[0].grid()\n",
    "    axes[0].fill_between(\n",
    "        train_sizes,\n",
    "        train_scores_mean - train_scores_std,\n",
    "        train_scores_mean + train_scores_std,\n",
    "        alpha=0.1,\n",
    "        color=\"r\",\n",
    "    )\n",
    "    axes[0].fill_between(\n",
    "        train_sizes,\n",
    "        test_scores_mean - test_scores_std,\n",
    "        test_scores_mean + test_scores_std,\n",
    "        alpha=0.1,\n",
    "        color=\"g\",\n",
    "    )\n",
    "    axes[0].plot(\n",
    "        train_sizes, train_scores_mean, \"o-\", color=\"r\", label=\"Training score\"\n",
    "    )\n",
    "    axes[0].plot(\n",
    "        train_sizes, test_scores_mean, \"o-\", color=\"g\", label=\"Cross-validation score\"\n",
    "    )\n",
    "    axes[0].legend(loc=\"best\")\n",
    "\n",
    "    # Plot n_samples vs fit_times\n",
    "    axes[1].grid()\n",
    "    axes[1].plot(train_sizes, fit_times_mean, \"o-\")\n",
    "    axes[1].set_xlabel(\"Training examples\")\n",
    "    axes[1].set_ylabel(\"fit_times\")\n",
    "    axes[1].set_title(\"Scalability of the model\")\n",
    "\n",
    "    # Plot fit_time vs score\n",
    "    fit_time_argsort = fit_times_mean.argsort()\n",
    "    fit_time_sorted = fit_times_mean[fit_time_argsort]\n",
    "    test_scores_mean_sorted = test_scores_mean[fit_time_argsort]\n",
    "    test_scores_std_sorted = test_scores_std[fit_time_argsort]\n",
    "    axes[2].grid()\n",
    "    axes[2].plot(fit_time_sorted, test_scores_mean_sorted, \"o-\")\n",
    "    axes[2].set_xlabel(\"fit_times\")\n",
    "    axes[2].set_ylabel(\"Score\")\n",
    "    axes[2].set_title(\"Performance of the model\")\n",
    "\n",
    "    return plt"
   ]
  },
  {
   "cell_type": "code",
   "execution_count": 30,
   "metadata": {},
   "outputs": [
    {
     "name": "stdout",
     "output_type": "stream",
     "text": [
      "Fitting 5 folds for each of 18 candidates, totalling 90 fits\n"
     ]
    },
    {
     "name": "stderr",
     "output_type": "stream",
     "text": [
      "[Parallel(n_jobs=-1)]: Using backend LokyBackend with 4 concurrent workers.\n",
      "[Parallel(n_jobs=-1)]: Done  42 tasks      | elapsed:  5.3min\n",
      "[Parallel(n_jobs=-1)]: Done  90 out of  90 | elapsed: 12.8min finished\n"
     ]
    },
    {
     "name": "stdout",
     "output_type": "stream",
     "text": [
      "Best estimator:  MLPClassifier(alpha=0.01, hidden_layer_sizes=(50, 50),\n",
      "              learning_rate='invscaling')\n",
      "\n",
      "\n",
      "Best f1 score:  0.9863923788859287\n"
     ]
    }
   ],
   "source": [
    "param_grid = {\n",
    "    'hidden_layer_sizes': [(100,100), (100,100), (200,200,200)],\n",
    "    \"alpha\" : [0.01, 0.05, 0.1, 0.5],\n",
    "    #\"learning_rate\":['constant', 'invscaling']\n",
    "}\n",
    "\n",
    "estimator = MLPClassifier(batch_size = 'auto', activation='relu', solver='adam')\n",
    "\n",
    "# Instantiate the grid search model\n",
    "grid_search = GridSearchCV(estimator = estimator, param_grid = param_grid, \n",
    "                           cv = 5, n_jobs = -1, verbose = 1, scoring='f1_weighted')\n",
    "\n",
    "# Fit the grid search to the data\n",
    "grid_search.fit(X_train, Y_train.ravel())\n",
    "\n",
    "#First grid search\n",
    "grid1 = grid_search.best_estimator_\n",
    "f1_score1 = grid_search.best_score_\n",
    "print(\"Best estimator: \", grid1)\n",
    "print(\"\\n\")\n",
    "print(\"Best f1 score: \", f1_score1)"
   ]
  },
  {
   "cell_type": "code",
   "execution_count": 31,
   "metadata": {},
   "outputs": [
    {
     "data": {
      "text/plain": [
       "<module 'matplotlib.pyplot' from 'c:\\\\users\\\\aniru\\\\appdata\\\\local\\\\programs\\\\python\\\\python36\\\\lib\\\\site-packages\\\\matplotlib\\\\pyplot.py'>"
      ]
     },
     "execution_count": 31,
     "metadata": {},
     "output_type": "execute_result"
    },
    {
     "data": {
      "image/png": "[encoded data removed]",
      "text/plain": [
       "<Figure size 1440x360 with 3 Axes>"
      ]
     },
     "metadata": {
      "needs_background": "light"
     },
     "output_type": "display_data"
    }
   ],
   "source": [
    "#Choose the best f1 score\n",
    "estimator = grid1\n",
    "\n",
    "#Shuffle Split with Stratified strategy\n",
    "title2 = \"f1 score Learning curve with Stratified strategy\"\n",
    "cv_dT= ShuffleSplit(test_size=0.2, random_state=0)\n",
    "plot_learning_curve(estimator, title2, X_train, Y_train, axes=None, ylim=(0.7, 1.01),\n",
    "                cv=cv_dT, n_jobs=-1)"
   ]
  },
  {
   "cell_type": "code",
   "execution_count": 32,
   "metadata": {},
   "outputs": [],
   "source": [
    "def complexity_curve(train_scores, validation_scores, index, title, inverse_x=False):\n",
    "    plt.rcParams[\"figure.figsize\"] = (10,8)\n",
    "    plt.plot(index, train_scores , \"r-+\",label=\"Train\")\n",
    "    plt.plot(index, test_scores, \"g-+\",label=\"Validation\")\n",
    "    plt.title(title)\n",
    "    plt.legend()\n",
    "    plt.grid(color='gray', linestyle='-', linewidth=0.5, alpha=0.3)\n",
    "    #plt.gca().invert_xaxis()"
   ]
  },
  {
   "cell_type": "code",
   "execution_count": 33,
   "metadata": {},
   "outputs": [
    {
     "name": "stderr",
     "output_type": "stream",
     "text": [
      "[Parallel(n_jobs=-1)]: Using backend LokyBackend with 4 concurrent workers.\n",
      "[Parallel(n_jobs=-1)]: Done  20 out of  20 | elapsed:  3.8min finished\n"
     ]
    },
    {
     "name": "stdout",
     "output_type": "stream",
     "text": [
      "[0.98738489 0.98716148 0.98647727 0.98666418] [0.98574953 0.98610501 0.98593824 0.98598225] [0.005, 0.01, 0.05, 0.1]\n"
     ]
    },
    {
     "data": {
      "image/png": "[encoded data removed]",
      "text/plain": [
       "<Figure size 720x576 with 1 Axes>"
      ]
     },
     "metadata": {
      "needs_background": "light"
     },
     "output_type": "display_data"
    }
   ],
   "source": [
    "#Using the validation curve determine the best neural network\n",
    "neural_net = MLPClassifier(alpha=0.01, hidden_layer_sizes=(50, 50), learning_rate='invscaling',learning_rate_init=0.001)\n",
    "\n",
    "param_range = [0.005, 0.01, 0.05, 0.1]\n",
    "\n",
    "train_scores, test_scores = validation_curve(neural_net, X_train, Y_train, param_name=\"alpha\", \n",
    "    param_range=param_range, scoring='f1_weighted', verbose=1, cv=5, n_jobs=-1)\n",
    "print(train_scores.mean(axis=1), test_scores.mean(axis=1), param_range)\n",
    "complexity_curve(train_scores.mean(axis=1), test_scores.mean(axis=1), param_range, \n",
    "                title='Model complexity on two layer Learning Rate alpha', inverse_x=False)"
   ]
  },
  {
   "cell_type": "code",
   "execution_count": 52,
   "metadata": {},
   "outputs": [],
   "source": [
    "#Determining the best neural network\n",
    "clf_mlp = MLPClassifier(hidden_layer_sizes=(100,100,), batch_size = 10, alpha=0.1)\n",
    "\n",
    "#Shuffle Split with Stratified Strategy\n",
    "#title1 = \"f1 score Learning curve with best alpha\"\n",
    "#cv= ShuffleSplit(test_size=0.2, random_state=0)\n",
    "#plot_learning_curve(clf_mlp, title1, X_train, Y_train, axes=None, ylim=(0.7, 1.01),\n",
    "#                cv=cv, n_jobs=-1)"
   ]
  },
  {
   "cell_type": "code",
   "execution_count": 53,
   "metadata": {},
   "outputs": [
    {
     "name": "stderr",
     "output_type": "stream",
     "text": [
      "c:\\users\\aniru\\appdata\\local\\programs\\python\\python36\\lib\\site-packages\\sklearn\\metrics\\_classification.py:1221: UndefinedMetricWarning: Precision and F-score are ill-defined and being set to 0.0 in labels with no predicted samples. Use `zero_division` parameter to control this behavior.\n",
      "  _warn_prf(average, modifier, msg_start, len(result))\n"
     ]
    },
    {
     "name": "stdout",
     "output_type": "stream",
     "text": [
      "              precision    recall  f1-score   support\n",
      "\n",
      "           0       1.00      1.00      1.00     36307\n",
      "           1       0.00      0.00      0.00        58\n",
      "\n",
      "    accuracy                           1.00     36365\n",
      "   macro avg       0.50      0.50      0.50     36365\n",
      "weighted avg       1.00      1.00      1.00     36365\n",
      "\n",
      "f1 score:  0.9976082261815005\n",
      "\n",
      "True Negative, False Positive, False Negative, True Positive:  36307 0 58 0\n",
      "\n",
      "Type I error:  100.0\n",
      "Type II error:  0.0\n",
      "\n",
      "AUC: 0.797\n"
     ]
    }
   ],
   "source": [
    "clf_mlp.fit(X_train, Y_train.ravel())\n",
    "predict_decision = clf_mlp.predict(X_test)\n",
    "\n",
    "\n",
    "#Print results\n",
    "print(classification_report(Y_test, predict_decision))\n",
    "print(\"f1 score: \", f1_score(Y_test, predict_decision, average=\"weighted\"))\n",
    "print()\n",
    "tn_test, fp_test, fn_test, tp_test = confusion_matrix(Y_test, predict_decision).flatten()\n",
    "type_I_error_test = (1 - (tp_test/(tp_test+fn_test))) * 100\n",
    "type_II_error_test = (1 - (tn_test/(tn_test+fp_test))) * 100\n",
    "print(\"True Negative, False Positive, False Negative, True Positive: \", tn_test, fp_test, fn_test, tp_test)\n",
    "print()\n",
    "print(\"Type I error: \", type_I_error_test)\n",
    "print(\"Type II error: \", type_II_error_test)\n",
    "print()\n",
    "      \n",
    "probs_dc = clf_mlp.predict_proba(X_test)\n",
    "probs_dc = probs_dc[:, 1]\n",
    "auc = roc_auc_score(Y_test, probs_dc)\n",
    "print('AUC: %.3f' % auc)"
   ]
  },
  {
   "cell_type": "code",
   "execution_count": null,
   "metadata": {},
   "outputs": [],
   "source": []
  }
 ],
 "metadata": {
  "kernelspec": {
   "display_name": "Python 3",
   "language": "python",
   "name": "python3"
  },
  "language_info": {
   "codemirror_mode": {
    "name": "ipython",
    "version": 3
   },
   "file_extension": ".py",
   "mimetype": "text/x-python",
   "name": "python",
   "nbconvert_exporter": "python",
   "pygments_lexer": "ipython3",
   "version": "3.6.8"
  }
 },
 "nbformat": 4,
 "nbformat_minor": 5
}
